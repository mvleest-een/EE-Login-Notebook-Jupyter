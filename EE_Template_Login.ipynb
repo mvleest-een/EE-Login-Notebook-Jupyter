{
 "cells": [
  {
   "cell_type": "code",
   "execution_count": 1,
   "id": "2b36d5a6",
   "metadata": {},
   "outputs": [],
   "source": [
    "import requests\n",
    "import pytz\n",
    "from datetime import datetime\n",
    "import json"
   ]
  },
  {
   "cell_type": "code",
   "execution_count": 2,
   "id": "54371c95",
   "metadata": {},
   "outputs": [],
   "source": [
    "session = requests.session()"
   ]
  },
  {
   "cell_type": "code",
   "execution_count": 3,
   "id": "68a4714f",
   "metadata": {},
   "outputs": [],
   "source": [
    "# EE VMS User Credentials:\n",
    "base       = \"login\"\n",
    "branding   = \"\" # will populate at a later stage\n",
    "username   = \"apiclientcredentials@een.com\"\n",
    "password   = \"JammerJoh0101\"\n",
    "# EE VMS API Key:\n",
    "api_key    = \"\" # not mandatory for API V1/V2\n",
    "# Start and end timestamp:\n",
    "timestamp = (datetime.now(pytz.timezone('UTC')).strftime('%Y%m%d%H%M%S.000')) # UTC Timestamp\n",
    "tz = pytz.timezone('Europe/Amsterdam') # Amsterdam TimeZone\n",
    "start_time = timestamp # Start TimeStamp\n",
    "end_time   = (datetime.now(tz=tz).strftime('%Y%m%d%H%M%S.000')) # End_Time = start_time + 1 hour"
   ]
  },
  {
   "cell_type": "code",
   "execution_count": 4,
   "id": "aa80dcf9",
   "metadata": {},
   "outputs": [],
   "source": [
    "\n",
    "url = \"https://\" + base + \".eagleeyenetworks.com/g/aaa/authenticate\"\n",
    "payload = json.dumps({\n",
    "    'username': username,\n",
    "    'password': password\n",
    "})\n",
    "headers = {\n",
    "    'content-type': 'application/json',\n",
    "    'authorization': api_key\n",
    "}\n",
    "response = session.request(\"POST\", url, data=payload, headers=headers)\n",
    "token = response.json()['token']"
   ]
  },
  {
   "cell_type": "code",
   "execution_count": 5,
   "id": "dca599db",
   "metadata": {},
   "outputs": [],
   "source": [
    "# Login Eagleeyenetworks\n",
    "url = \"https://\" + base + \".eagleeyenetworks.com/g/aaa/authorize\"\n",
    "payload = json.dumps({'token': token})\n",
    "headers = {\n",
    "    'content-type': 'application/json',\n",
    "    'authorization': api_key\n",
    "}\n",
    "response = session.request(\"POST\", url, data=payload, headers=headers)\n",
    "auth_key = session.cookies.get_dict()[\"auth_key\"]\n",
    "branding = response.json()[\"active_brand_subdomain\"]"
   ]
  }
 ],
 "metadata": {
  "kernelspec": {
   "display_name": "Python 3 (ipykernel)",
   "language": "python",
   "name": "python3"
  },
  "language_info": {
   "codemirror_mode": {
    "name": "ipython",
    "version": 3
   },
   "file_extension": ".py",
   "mimetype": "text/x-python",
   "name": "python",
   "nbconvert_exporter": "python",
   "pygments_lexer": "ipython3",
   "version": "3.10.8"
  },
  "vscode": {
   "interpreter": {
    "hash": "aee8b7b246df8f9039afb4144a1f6fd8d2ca17a180786b69acc140d282b71a49"
   }
  }
 },
 "nbformat": 4,
 "nbformat_minor": 5
}
